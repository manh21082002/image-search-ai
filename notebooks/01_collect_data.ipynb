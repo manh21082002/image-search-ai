{
 "cells": [
  {
   "cell_type": "code",
   "execution_count": null,
   "metadata": {},
   "outputs": [],
   "source": [
    "import os\n",
    "import pandas as pd\n",
    "import requests\n",
    "from tqdm import tqdm\n",
    "import re\n",
    "from unidecode import unidecode\n",
    "import numpy as np"
   ]
  },
  {
   "cell_type": "code",
   "execution_count": 6,
   "metadata": {},
   "outputs": [],
   "source": [
    "df = pd.read_csv(r'D:\\KLTN_Image-Seaching_Systeam\\data\\menu.csv')"
   ]
  },
  {
   "cell_type": "code",
   "execution_count": 7,
   "metadata": {},
   "outputs": [
    {
     "data": {
      "text/html": [
       "<div>\n",
       "<style scoped>\n",
       "    .dataframe tbody tr th:only-of-type {\n",
       "        vertical-align: middle;\n",
       "    }\n",
       "\n",
       "    .dataframe tbody tr th {\n",
       "        vertical-align: top;\n",
       "    }\n",
       "\n",
       "    .dataframe thead th {\n",
       "        text-align: right;\n",
       "    }\n",
       "</style>\n",
       "<table border=\"1\" class=\"dataframe\">\n",
       "  <thead>\n",
       "    <tr style=\"text-align: right;\">\n",
       "      <th></th>\n",
       "      <th>Tên nhà hàng</th>\n",
       "      <th>Tên món</th>\n",
       "      <th>Giá</th>\n",
       "      <th>Hình ảnh món ăn</th>\n",
       "    </tr>\n",
       "  </thead>\n",
       "  <tbody>\n",
       "    <tr>\n",
       "      <th>0</th>\n",
       "      <td>Top Floor Rue Des Seaux Restaurant - Hàng Thùng</td>\n",
       "      <td>Sườn Nướng Tảng Sốt Mật Ong Vừng (1kg)</td>\n",
       "      <td>350.000đ</td>\n",
       "      <td>https://mms.img.susercontent.com/vn-11134517-7...</td>\n",
       "    </tr>\n",
       "    <tr>\n",
       "      <th>1</th>\n",
       "      <td>Top Floor Rue Des Seaux Restaurant - Hàng Thùng</td>\n",
       "      <td>Salad Caeser Với Gà Nướng</td>\n",
       "      <td>100.000đ</td>\n",
       "      <td>https://mms.img.susercontent.com/vn-11134517-7...</td>\n",
       "    </tr>\n",
       "    <tr>\n",
       "      <th>2</th>\n",
       "      <td>Top Floor Rue Des Seaux Restaurant - Hàng Thùng</td>\n",
       "      <td>Cơm Rang Dứa</td>\n",
       "      <td>115.000đ</td>\n",
       "      <td>https://mms.img.susercontent.com/vn-11134517-7...</td>\n",
       "    </tr>\n",
       "    <tr>\n",
       "      <th>3</th>\n",
       "      <td>Top Floor Rue Des Seaux Restaurant - Hàng Thùng</td>\n",
       "      <td>Mỳ Ý Sốt Bolognese</td>\n",
       "      <td>115.000đ</td>\n",
       "      <td>https://mms.img.susercontent.com/vn-11134517-7...</td>\n",
       "    </tr>\n",
       "    <tr>\n",
       "      <th>4</th>\n",
       "      <td>Top Floor Rue Des Seaux Restaurant - Hàng Thùng</td>\n",
       "      <td>Cơm Sườn Nướng Sốt Mật Ong Vừng</td>\n",
       "      <td>150.000đ</td>\n",
       "      <td>https://mms.img.susercontent.com/vn-11134517-7...</td>\n",
       "    </tr>\n",
       "    <tr>\n",
       "      <th>...</th>\n",
       "      <td>...</td>\n",
       "      <td>...</td>\n",
       "      <td>...</td>\n",
       "      <td>...</td>\n",
       "    </tr>\n",
       "    <tr>\n",
       "      <th>16098</th>\n",
       "      <td>LittleB Kitchen - Coffee &amp; Desert</td>\n",
       "      <td>Cuốn Tomyum</td>\n",
       "      <td>70.000đ</td>\n",
       "      <td>https://mms.img.susercontent.com/vn-11134517-7...</td>\n",
       "    </tr>\n",
       "    <tr>\n",
       "      <th>16099</th>\n",
       "      <td>LittleB Kitchen - Coffee &amp; Desert</td>\n",
       "      <td>Cuốn Mix Hai Loại</td>\n",
       "      <td>85.000đ</td>\n",
       "      <td>https://mms.img.susercontent.com/vn-11134517-7...</td>\n",
       "    </tr>\n",
       "    <tr>\n",
       "      <th>16100</th>\n",
       "      <td>LittleB Kitchen - Coffee &amp; Desert</td>\n",
       "      <td>Cuốn Mix Ba Loại</td>\n",
       "      <td>85.000đ</td>\n",
       "      <td>https://mms.img.susercontent.com/vn-11134517-7...</td>\n",
       "    </tr>\n",
       "    <tr>\n",
       "      <th>16101</th>\n",
       "      <td>LittleB Kitchen - Coffee &amp; Desert</td>\n",
       "      <td>Salad Lườn Ngỗng Sốt Mè Rang</td>\n",
       "      <td>55.000đ</td>\n",
       "      <td>https://mms.img.susercontent.com/vn-11134517-7...</td>\n",
       "    </tr>\n",
       "    <tr>\n",
       "      <th>16102</th>\n",
       "      <td>LittleB Kitchen - Coffee &amp; Desert</td>\n",
       "      <td>Cuốn Gà Nướng Mật Ong Rau Mầm</td>\n",
       "      <td>70.000đ</td>\n",
       "      <td>https://mms.img.susercontent.com/vn-11134517-7...</td>\n",
       "    </tr>\n",
       "  </tbody>\n",
       "</table>\n",
       "<p>16103 rows × 4 columns</p>\n",
       "</div>"
      ],
      "text/plain": [
       "                                          Tên nhà hàng  \\\n",
       "0      Top Floor Rue Des Seaux Restaurant - Hàng Thùng   \n",
       "1      Top Floor Rue Des Seaux Restaurant - Hàng Thùng   \n",
       "2      Top Floor Rue Des Seaux Restaurant - Hàng Thùng   \n",
       "3      Top Floor Rue Des Seaux Restaurant - Hàng Thùng   \n",
       "4      Top Floor Rue Des Seaux Restaurant - Hàng Thùng   \n",
       "...                                                ...   \n",
       "16098                LittleB Kitchen - Coffee & Desert   \n",
       "16099                LittleB Kitchen - Coffee & Desert   \n",
       "16100                LittleB Kitchen - Coffee & Desert   \n",
       "16101                LittleB Kitchen - Coffee & Desert   \n",
       "16102                LittleB Kitchen - Coffee & Desert   \n",
       "\n",
       "                                      Tên món       Giá  \\\n",
       "0      Sườn Nướng Tảng Sốt Mật Ong Vừng (1kg)  350.000đ   \n",
       "1                   Salad Caeser Với Gà Nướng  100.000đ   \n",
       "2                                Cơm Rang Dứa  115.000đ   \n",
       "3                          Mỳ Ý Sốt Bolognese  115.000đ   \n",
       "4             Cơm Sườn Nướng Sốt Mật Ong Vừng  150.000đ   \n",
       "...                                       ...       ...   \n",
       "16098                             Cuốn Tomyum   70.000đ   \n",
       "16099                       Cuốn Mix Hai Loại   85.000đ   \n",
       "16100                        Cuốn Mix Ba Loại   85.000đ   \n",
       "16101            Salad Lườn Ngỗng Sốt Mè Rang   55.000đ   \n",
       "16102           Cuốn Gà Nướng Mật Ong Rau Mầm   70.000đ   \n",
       "\n",
       "                                         Hình ảnh món ăn  \n",
       "0      https://mms.img.susercontent.com/vn-11134517-7...  \n",
       "1      https://mms.img.susercontent.com/vn-11134517-7...  \n",
       "2      https://mms.img.susercontent.com/vn-11134517-7...  \n",
       "3      https://mms.img.susercontent.com/vn-11134517-7...  \n",
       "4      https://mms.img.susercontent.com/vn-11134517-7...  \n",
       "...                                                  ...  \n",
       "16098  https://mms.img.susercontent.com/vn-11134517-7...  \n",
       "16099  https://mms.img.susercontent.com/vn-11134517-7...  \n",
       "16100  https://mms.img.susercontent.com/vn-11134517-7...  \n",
       "16101  https://mms.img.susercontent.com/vn-11134517-7...  \n",
       "16102  https://mms.img.susercontent.com/vn-11134517-7...  \n",
       "\n",
       "[16103 rows x 4 columns]"
      ]
     },
     "execution_count": 7,
     "metadata": {},
     "output_type": "execute_result"
    }
   ],
   "source": [
    "df"
   ]
  },
  {
   "cell_type": "code",
   "execution_count": 12,
   "metadata": {},
   "outputs": [
    {
     "data": {
      "text/plain": [
       "10966"
      ]
     },
     "execution_count": 12,
     "metadata": {},
     "output_type": "execute_result"
    }
   ],
   "source": [
    "len(df['Tên món'].unique())"
   ]
  },
  {
   "cell_type": "code",
   "execution_count": 23,
   "metadata": {},
   "outputs": [
    {
     "data": {
      "text/plain": [
       "10166"
      ]
     },
     "execution_count": 23,
     "metadata": {},
     "output_type": "execute_result"
    }
   ],
   "source": [
    "def clean_food_name1(name):\n",
    "    if pd.isna(name):  # Kiểm tra nếu giá trị NaN\n",
    "        return \"\"\n",
    "    \n",
    "    name = name.lower().strip()  # Chuyển về chữ thường và xóa khoảng trắng thừa\n",
    "    # name = unidecode(name)  # Loại bỏ dấu tiếng Việt\n",
    "    name = re.sub(r\"[^\\w\\s]\", \"\", name)  # Xóa ký tự đặc biệt\n",
    "    name = re.sub(r\"\\s+\", \" \", name)  # Chuẩn hóa khoảng trắng\n",
    "    return name\n",
    "len(df['Tên món'].apply(clean_food_name1).unique())"
   ]
  },
  {
   "cell_type": "code",
   "execution_count": 24,
   "metadata": {},
   "outputs": [
    {
     "data": {
      "text/plain": [
       "10120"
      ]
     },
     "execution_count": 24,
     "metadata": {},
     "output_type": "execute_result"
    }
   ],
   "source": [
    "def clean_food_name2(name):\n",
    "    if pd.isna(name):  # Kiểm tra nếu giá trị NaN\n",
    "        return \"\"\n",
    "    \n",
    "    name = name.lower().strip()  # Chuyển về chữ thường và xóa khoảng trắng thừa\n",
    "    name = unidecode(name)  # Loại bỏ dấu tiếng Việt\n",
    "    name = re.sub(r\"[^\\w\\s]\", \"\", name)  # Xóa ký tự đặc biệt\n",
    "    name = re.sub(r\"\\s+\", \" \", name)  # Chuẩn hóa khoảng trắng\n",
    "    return name\n",
    "len(df['Tên món'].apply(clean_food_name2).unique())"
   ]
  },
  {
   "cell_type": "code",
   "execution_count": 26,
   "metadata": {},
   "outputs": [
    {
     "data": {
      "text/plain": [
       "0        Sườn Nướng Tảng Sốt Mật Ong Vừng (1kg)\n",
       "1                     Salad Caeser Với Gà Nướng\n",
       "2                                  Cơm Rang Dứa\n",
       "3                            Mỳ Ý Sốt Bolognese\n",
       "4               Cơm Sườn Nướng Sốt Mật Ong Vừng\n",
       "                          ...                  \n",
       "16098                               Cuốn Tomyum\n",
       "16099                         Cuốn Mix Hai Loại\n",
       "16100                          Cuốn Mix Ba Loại\n",
       "16101              Salad Lườn Ngỗng Sốt Mè Rang\n",
       "16102             Cuốn Gà Nướng Mật Ong Rau Mầm\n",
       "Name: Tên món, Length: 14284, dtype: object"
      ]
     },
     "execution_count": 26,
     "metadata": {},
     "output_type": "execute_result"
    }
   ],
   "source": [
    "df.loc[ df['Tên món'].apply(clean_food_name2) != df['Tên món'].apply(clean_food_name1),'Tên món']"
   ]
  },
  {
   "cell_type": "code",
   "execution_count": 36,
   "metadata": {},
   "outputs": [
    {
     "data": {
      "text/html": [
       "<div>\n",
       "<style scoped>\n",
       "    .dataframe tbody tr th:only-of-type {\n",
       "        vertical-align: middle;\n",
       "    }\n",
       "\n",
       "    .dataframe tbody tr th {\n",
       "        vertical-align: top;\n",
       "    }\n",
       "\n",
       "    .dataframe thead th {\n",
       "        text-align: right;\n",
       "    }\n",
       "</style>\n",
       "<table border=\"1\" class=\"dataframe\">\n",
       "  <thead>\n",
       "    <tr style=\"text-align: right;\">\n",
       "      <th></th>\n",
       "      <th>count</th>\n",
       "    </tr>\n",
       "    <tr>\n",
       "      <th>Tên món</th>\n",
       "      <th></th>\n",
       "    </tr>\n",
       "  </thead>\n",
       "  <tbody>\n",
       "    <tr>\n",
       "      <th>khoai tay chien</th>\n",
       "      <td>44</td>\n",
       "    </tr>\n",
       "    <tr>\n",
       "      <th>tra quat</th>\n",
       "      <td>43</td>\n",
       "    </tr>\n",
       "    <tr>\n",
       "      <th>sua dau nanh</th>\n",
       "      <td>39</td>\n",
       "    </tr>\n",
       "    <tr>\n",
       "      <th>tra dao</th>\n",
       "      <td>34</td>\n",
       "    </tr>\n",
       "    <tr>\n",
       "      <th>tra chanh</th>\n",
       "      <td>33</td>\n",
       "    </tr>\n",
       "    <tr>\n",
       "      <th>...</th>\n",
       "      <td>...</td>\n",
       "    </tr>\n",
       "    <tr>\n",
       "      <th>tra sen quang hoi</th>\n",
       "      <td>1</td>\n",
       "    </tr>\n",
       "    <tr>\n",
       "      <th>sua chua hoa qua vitamin khoang chat</th>\n",
       "      <td>1</td>\n",
       "    </tr>\n",
       "    <tr>\n",
       "      <th>sua chua tran chau den trang</th>\n",
       "      <td>1</td>\n",
       "    </tr>\n",
       "    <tr>\n",
       "      <th>che thach dua non la nep</th>\n",
       "      <td>1</td>\n",
       "    </tr>\n",
       "    <tr>\n",
       "      <th>matcha latte aki</th>\n",
       "      <td>1</td>\n",
       "    </tr>\n",
       "  </tbody>\n",
       "</table>\n",
       "<p>10166 rows × 1 columns</p>\n",
       "</div>"
      ],
      "text/plain": [
       "                                      count\n",
       "Tên món                                    \n",
       "khoai tay chien                          44\n",
       "tra quat                                 43\n",
       "sua dau nanh                             39\n",
       "tra dao                                  34\n",
       "tra chanh                                33\n",
       "...                                     ...\n",
       "tra sen quang hoi                         1\n",
       "sua chua hoa qua vitamin khoang chat      1\n",
       "sua chua tran chau den trang              1\n",
       "che thach dua non la nep                  1\n",
       "matcha latte aki                          1\n",
       "\n",
       "[10166 rows x 1 columns]"
      ]
     },
     "execution_count": 36,
     "metadata": {},
     "output_type": "execute_result"
    }
   ],
   "source": [
    "df2=pd.DataFrame(df['Tên món'].apply(clean_food_name2).value_counts())\n",
    "df1=pd.DataFrame(df['Tên món'].apply(clean_food_name1).value_counts())\n",
    "# df1['name']=df1.index \n",
    "df1.index = df1.index.to_series().apply(clean_food_name2)\n",
    "df1"
   ]
  },
  {
   "cell_type": "code",
   "execution_count": 34,
   "metadata": {},
   "outputs": [
    {
     "data": {
      "text/html": [
       "<div>\n",
       "<style scoped>\n",
       "    .dataframe tbody tr th:only-of-type {\n",
       "        vertical-align: middle;\n",
       "    }\n",
       "\n",
       "    .dataframe tbody tr th {\n",
       "        vertical-align: top;\n",
       "    }\n",
       "\n",
       "    .dataframe thead th {\n",
       "        text-align: right;\n",
       "    }\n",
       "</style>\n",
       "<table border=\"1\" class=\"dataframe\">\n",
       "  <thead>\n",
       "    <tr style=\"text-align: right;\">\n",
       "      <th></th>\n",
       "      <th>count</th>\n",
       "    </tr>\n",
       "    <tr>\n",
       "      <th>Tên món</th>\n",
       "      <th></th>\n",
       "    </tr>\n",
       "  </thead>\n",
       "  <tbody>\n",
       "    <tr>\n",
       "      <th>khoai tay chien</th>\n",
       "      <td>44</td>\n",
       "    </tr>\n",
       "    <tr>\n",
       "      <th>tra quat</th>\n",
       "      <td>43</td>\n",
       "    </tr>\n",
       "    <tr>\n",
       "      <th>sua dau nanh</th>\n",
       "      <td>39</td>\n",
       "    </tr>\n",
       "    <tr>\n",
       "      <th>tra dao</th>\n",
       "      <td>34</td>\n",
       "    </tr>\n",
       "    <tr>\n",
       "      <th>nem chua ran</th>\n",
       "      <td>33</td>\n",
       "    </tr>\n",
       "    <tr>\n",
       "      <th>...</th>\n",
       "      <td>...</td>\n",
       "    </tr>\n",
       "    <tr>\n",
       "      <th>tra sen quang hoi</th>\n",
       "      <td>1</td>\n",
       "    </tr>\n",
       "    <tr>\n",
       "      <th>sua chua hoa qua vitamin khoang chat</th>\n",
       "      <td>1</td>\n",
       "    </tr>\n",
       "    <tr>\n",
       "      <th>sua chua tran chau den trang</th>\n",
       "      <td>1</td>\n",
       "    </tr>\n",
       "    <tr>\n",
       "      <th>che thach dua non la nep</th>\n",
       "      <td>1</td>\n",
       "    </tr>\n",
       "    <tr>\n",
       "      <th>salad caeser voi ga nuong</th>\n",
       "      <td>1</td>\n",
       "    </tr>\n",
       "  </tbody>\n",
       "</table>\n",
       "<p>10120 rows × 1 columns</p>\n",
       "</div>"
      ],
      "text/plain": [
       "                                      count\n",
       "Tên món                                    \n",
       "khoai tay chien                          44\n",
       "tra quat                                 43\n",
       "sua dau nanh                             39\n",
       "tra dao                                  34\n",
       "nem chua ran                             33\n",
       "...                                     ...\n",
       "tra sen quang hoi                         1\n",
       "sua chua hoa qua vitamin khoang chat      1\n",
       "sua chua tran chau den trang              1\n",
       "che thach dua non la nep                  1\n",
       "salad caeser voi ga nuong                 1\n",
       "\n",
       "[10120 rows x 1 columns]"
      ]
     },
     "execution_count": 34,
     "metadata": {},
     "output_type": "execute_result"
    }
   ],
   "source": [
    "df2"
   ]
  },
  {
   "cell_type": "code",
   "execution_count": null,
   "metadata": {},
   "outputs": [
    {
     "ename": "TypeError",
     "evalue": "unsupported operand type(s) for -: 'str' and 'float'",
     "output_type": "error",
     "traceback": [
      "\u001b[1;31m---------------------------------------------------------------------------\u001b[0m",
      "\u001b[1;31mTypeError\u001b[0m                                 Traceback (most recent call last)",
      "\u001b[1;32m~\\AppData\\Local\\Temp\\ipykernel_13816\\185349652.py\u001b[0m in \u001b[0;36m?\u001b[1;34m()\u001b[0m\n\u001b[1;32m----> 1\u001b[1;33m \u001b[0mdf1\u001b[0m\u001b[1;33m.\u001b[0m\u001b[0msubtract\u001b[0m\u001b[1;33m(\u001b[0m\u001b[0mdf2\u001b[0m\u001b[1;33m,\u001b[0m \u001b[0mfill_value\u001b[0m\u001b[1;33m=\u001b[0m\u001b[1;36m0\u001b[0m\u001b[1;33m)\u001b[0m\u001b[1;33m.\u001b[0m\u001b[0mquery\u001b[0m\u001b[1;33m(\u001b[0m\u001b[1;34m\"count != 0\"\u001b[0m\u001b[1;33m)\u001b[0m\u001b[1;33m\u001b[0m\u001b[1;33m\u001b[0m\u001b[0m\n\u001b[0m",
      "\u001b[1;32md:\\KLTN_Image-Seaching_Systeam\\venv\\Lib\\site-packages\\pandas\\core\\frame.py\u001b[0m in \u001b[0;36m?\u001b[1;34m(self, other, axis, level, fill_value)\u001b[0m\n\u001b[0;32m   8361\u001b[0m     \u001b[1;33m@\u001b[0m\u001b[0mAppender\u001b[0m\u001b[1;33m(\u001b[0m\u001b[0mops\u001b[0m\u001b[1;33m.\u001b[0m\u001b[0mmake_flex_doc\u001b[0m\u001b[1;33m(\u001b[0m\u001b[1;34m\"sub\"\u001b[0m\u001b[1;33m,\u001b[0m \u001b[1;34m\"dataframe\"\u001b[0m\u001b[1;33m)\u001b[0m\u001b[1;33m)\u001b[0m\u001b[1;33m\u001b[0m\u001b[1;33m\u001b[0m\u001b[0m\n\u001b[0;32m   8362\u001b[0m     def sub(\n\u001b[0;32m   8363\u001b[0m         \u001b[0mself\u001b[0m\u001b[1;33m,\u001b[0m \u001b[0mother\u001b[0m\u001b[1;33m,\u001b[0m \u001b[0maxis\u001b[0m\u001b[1;33m:\u001b[0m \u001b[0mAxis\u001b[0m \u001b[1;33m=\u001b[0m \u001b[1;34m\"columns\"\u001b[0m\u001b[1;33m,\u001b[0m \u001b[0mlevel\u001b[0m\u001b[1;33m=\u001b[0m\u001b[1;32mNone\u001b[0m\u001b[1;33m,\u001b[0m \u001b[0mfill_value\u001b[0m\u001b[1;33m=\u001b[0m\u001b[1;32mNone\u001b[0m\u001b[1;33m\u001b[0m\u001b[1;33m\u001b[0m\u001b[0m\n\u001b[0;32m   8364\u001b[0m     ) -> DataFrame:\n\u001b[1;32m-> 8365\u001b[1;33m         return self._flex_arith_method(\n\u001b[0m\u001b[0;32m   8366\u001b[0m             \u001b[0mother\u001b[0m\u001b[1;33m,\u001b[0m \u001b[0moperator\u001b[0m\u001b[1;33m.\u001b[0m\u001b[0msub\u001b[0m\u001b[1;33m,\u001b[0m \u001b[0mlevel\u001b[0m\u001b[1;33m=\u001b[0m\u001b[0mlevel\u001b[0m\u001b[1;33m,\u001b[0m \u001b[0mfill_value\u001b[0m\u001b[1;33m=\u001b[0m\u001b[0mfill_value\u001b[0m\u001b[1;33m,\u001b[0m \u001b[0maxis\u001b[0m\u001b[1;33m=\u001b[0m\u001b[0maxis\u001b[0m\u001b[1;33m\u001b[0m\u001b[1;33m\u001b[0m\u001b[0m\n\u001b[0;32m   8367\u001b[0m         )\n",
      "\u001b[1;32md:\\KLTN_Image-Seaching_Systeam\\venv\\Lib\\site-packages\\pandas\\core\\frame.py\u001b[0m in \u001b[0;36m?\u001b[1;34m(self, other, op, axis, level, fill_value)\u001b[0m\n\u001b[0;32m   8265\u001b[0m \u001b[1;33m\u001b[0m\u001b[0m\n\u001b[0;32m   8266\u001b[0m         \u001b[1;32mwith\u001b[0m \u001b[0mnp\u001b[0m\u001b[1;33m.\u001b[0m\u001b[0merrstate\u001b[0m\u001b[1;33m(\u001b[0m\u001b[0mall\u001b[0m\u001b[1;33m=\u001b[0m\u001b[1;34m\"ignore\"\u001b[0m\u001b[1;33m)\u001b[0m\u001b[1;33m:\u001b[0m\u001b[1;33m\u001b[0m\u001b[1;33m\u001b[0m\u001b[0m\n\u001b[0;32m   8267\u001b[0m             \u001b[1;32mif\u001b[0m \u001b[0misinstance\u001b[0m\u001b[1;33m(\u001b[0m\u001b[0mother\u001b[0m\u001b[1;33m,\u001b[0m \u001b[0mDataFrame\u001b[0m\u001b[1;33m)\u001b[0m\u001b[1;33m:\u001b[0m\u001b[1;33m\u001b[0m\u001b[1;33m\u001b[0m\u001b[0m\n\u001b[0;32m   8268\u001b[0m                 \u001b[1;31m# Another DataFrame\u001b[0m\u001b[1;33m\u001b[0m\u001b[1;33m\u001b[0m\u001b[0m\n\u001b[1;32m-> 8269\u001b[1;33m                 \u001b[0mnew_data\u001b[0m \u001b[1;33m=\u001b[0m \u001b[0mself\u001b[0m\u001b[1;33m.\u001b[0m\u001b[0m_combine_frame\u001b[0m\u001b[1;33m(\u001b[0m\u001b[0mother\u001b[0m\u001b[1;33m,\u001b[0m \u001b[0mop\u001b[0m\u001b[1;33m,\u001b[0m \u001b[0mfill_value\u001b[0m\u001b[1;33m)\u001b[0m\u001b[1;33m\u001b[0m\u001b[1;33m\u001b[0m\u001b[0m\n\u001b[0m\u001b[0;32m   8270\u001b[0m \u001b[1;33m\u001b[0m\u001b[0m\n\u001b[0;32m   8271\u001b[0m             \u001b[1;32melif\u001b[0m \u001b[0misinstance\u001b[0m\u001b[1;33m(\u001b[0m\u001b[0mother\u001b[0m\u001b[1;33m,\u001b[0m \u001b[0mSeries\u001b[0m\u001b[1;33m)\u001b[0m\u001b[1;33m:\u001b[0m\u001b[1;33m\u001b[0m\u001b[1;33m\u001b[0m\u001b[0m\n\u001b[0;32m   8272\u001b[0m                 \u001b[0mnew_data\u001b[0m \u001b[1;33m=\u001b[0m \u001b[0mself\u001b[0m\u001b[1;33m.\u001b[0m\u001b[0m_dispatch_frame_op\u001b[0m\u001b[1;33m(\u001b[0m\u001b[0mother\u001b[0m\u001b[1;33m,\u001b[0m \u001b[0mop\u001b[0m\u001b[1;33m,\u001b[0m \u001b[0maxis\u001b[0m\u001b[1;33m=\u001b[0m\u001b[0maxis\u001b[0m\u001b[1;33m)\u001b[0m\u001b[1;33m\u001b[0m\u001b[1;33m\u001b[0m\u001b[0m\n",
      "\u001b[1;32md:\\KLTN_Image-Seaching_Systeam\\venv\\Lib\\site-packages\\pandas\\core\\frame.py\u001b[0m in \u001b[0;36m?\u001b[1;34m(self, other, func, fill_value)\u001b[0m\n\u001b[0;32m   8007\u001b[0m                 \u001b[1;31m# left._binop(right, func, fill_value=fill_value)\u001b[0m\u001b[1;33m\u001b[0m\u001b[1;33m\u001b[0m\u001b[0m\n\u001b[0;32m   8008\u001b[0m                 \u001b[0mleft\u001b[0m\u001b[1;33m,\u001b[0m \u001b[0mright\u001b[0m \u001b[1;33m=\u001b[0m \u001b[0mops\u001b[0m\u001b[1;33m.\u001b[0m\u001b[0mfill_binop\u001b[0m\u001b[1;33m(\u001b[0m\u001b[0mleft\u001b[0m\u001b[1;33m,\u001b[0m \u001b[0mright\u001b[0m\u001b[1;33m,\u001b[0m \u001b[0mfill_value\u001b[0m\u001b[1;33m)\u001b[0m\u001b[1;33m\u001b[0m\u001b[1;33m\u001b[0m\u001b[0m\n\u001b[0;32m   8009\u001b[0m                 \u001b[1;32mreturn\u001b[0m \u001b[0mfunc\u001b[0m\u001b[1;33m(\u001b[0m\u001b[0mleft\u001b[0m\u001b[1;33m,\u001b[0m \u001b[0mright\u001b[0m\u001b[1;33m)\u001b[0m\u001b[1;33m\u001b[0m\u001b[1;33m\u001b[0m\u001b[0m\n\u001b[0;32m   8010\u001b[0m \u001b[1;33m\u001b[0m\u001b[0m\n\u001b[1;32m-> 8011\u001b[1;33m         \u001b[0mnew_data\u001b[0m \u001b[1;33m=\u001b[0m \u001b[0mself\u001b[0m\u001b[1;33m.\u001b[0m\u001b[0m_dispatch_frame_op\u001b[0m\u001b[1;33m(\u001b[0m\u001b[0mother\u001b[0m\u001b[1;33m,\u001b[0m \u001b[0m_arith_op\u001b[0m\u001b[1;33m)\u001b[0m\u001b[1;33m\u001b[0m\u001b[1;33m\u001b[0m\u001b[0m\n\u001b[0m\u001b[0;32m   8012\u001b[0m         \u001b[1;32mreturn\u001b[0m \u001b[0mnew_data\u001b[0m\u001b[1;33m\u001b[0m\u001b[1;33m\u001b[0m\u001b[0m\n",
      "\u001b[1;32md:\\KLTN_Image-Seaching_Systeam\\venv\\Lib\\site-packages\\pandas\\core\\frame.py\u001b[0m in \u001b[0;36m?\u001b[1;34m(self, right, func, axis)\u001b[0m\n\u001b[0;32m   7952\u001b[0m             \u001b[1;31m#  fails in cases with empty columns reached via\u001b[0m\u001b[1;33m\u001b[0m\u001b[1;33m\u001b[0m\u001b[0m\n\u001b[0;32m   7953\u001b[0m             \u001b[1;31m#  _frame_arith_method_with_reindex\u001b[0m\u001b[1;33m\u001b[0m\u001b[1;33m\u001b[0m\u001b[0m\n\u001b[0;32m   7954\u001b[0m \u001b[1;33m\u001b[0m\u001b[0m\n\u001b[0;32m   7955\u001b[0m             \u001b[1;31m# TODO operate_blockwise expects a manager of the same type\u001b[0m\u001b[1;33m\u001b[0m\u001b[1;33m\u001b[0m\u001b[0m\n\u001b[1;32m-> 7956\u001b[1;33m             bm = self._mgr.operate_blockwise(\n\u001b[0m\u001b[0;32m   7957\u001b[0m                 \u001b[1;31m# error: Argument 1 to \"operate_blockwise\" of \"ArrayManager\" has\u001b[0m\u001b[1;33m\u001b[0m\u001b[1;33m\u001b[0m\u001b[0m\n\u001b[0;32m   7958\u001b[0m                 \u001b[1;31m# incompatible type \"Union[ArrayManager, BlockManager]\"; expected\u001b[0m\u001b[1;33m\u001b[0m\u001b[1;33m\u001b[0m\u001b[0m\n\u001b[0;32m   7959\u001b[0m                 \u001b[1;31m# \"ArrayManager\"\u001b[0m\u001b[1;33m\u001b[0m\u001b[1;33m\u001b[0m\u001b[0m\n",
      "\u001b[1;32md:\\KLTN_Image-Seaching_Systeam\\venv\\Lib\\site-packages\\pandas\\core\\internals\\managers.py\u001b[0m in \u001b[0;36m?\u001b[1;34m(self, other, array_op)\u001b[0m\n\u001b[0;32m   1507\u001b[0m     \u001b[1;32mdef\u001b[0m \u001b[0moperate_blockwise\u001b[0m\u001b[1;33m(\u001b[0m\u001b[0mself\u001b[0m\u001b[1;33m,\u001b[0m \u001b[0mother\u001b[0m\u001b[1;33m:\u001b[0m \u001b[0mBlockManager\u001b[0m\u001b[1;33m,\u001b[0m \u001b[0marray_op\u001b[0m\u001b[1;33m)\u001b[0m \u001b[1;33m->\u001b[0m \u001b[0mBlockManager\u001b[0m\u001b[1;33m:\u001b[0m\u001b[1;33m\u001b[0m\u001b[1;33m\u001b[0m\u001b[0m\n\u001b[0;32m   1508\u001b[0m         \"\"\"\n\u001b[0;32m   1509\u001b[0m         \u001b[0mApply\u001b[0m \u001b[0marray_op\u001b[0m \u001b[0mblockwise\u001b[0m \u001b[1;32mwith\u001b[0m \u001b[0manother\u001b[0m \u001b[1;33m(\u001b[0m\u001b[0maligned\u001b[0m\u001b[1;33m)\u001b[0m \u001b[0mBlockManager\u001b[0m\u001b[1;33m.\u001b[0m\u001b[1;33m\u001b[0m\u001b[1;33m\u001b[0m\u001b[0m\n\u001b[0;32m   1510\u001b[0m         \"\"\"\n\u001b[1;32m-> 1511\u001b[1;33m         \u001b[1;32mreturn\u001b[0m \u001b[0moperate_blockwise\u001b[0m\u001b[1;33m(\u001b[0m\u001b[0mself\u001b[0m\u001b[1;33m,\u001b[0m \u001b[0mother\u001b[0m\u001b[1;33m,\u001b[0m \u001b[0marray_op\u001b[0m\u001b[1;33m)\u001b[0m\u001b[1;33m\u001b[0m\u001b[1;33m\u001b[0m\u001b[0m\n\u001b[0m",
      "\u001b[1;32md:\\KLTN_Image-Seaching_Systeam\\venv\\Lib\\site-packages\\pandas\\core\\internals\\ops.py\u001b[0m in \u001b[0;36m?\u001b[1;34m(left, right, array_op)\u001b[0m\n\u001b[0;32m     61\u001b[0m     \u001b[1;31m#  assert rframe._indexed_same(lframe)\u001b[0m\u001b[1;33m\u001b[0m\u001b[1;33m\u001b[0m\u001b[0m\n\u001b[0;32m     62\u001b[0m \u001b[1;33m\u001b[0m\u001b[0m\n\u001b[0;32m     63\u001b[0m     \u001b[0mres_blks\u001b[0m\u001b[1;33m:\u001b[0m \u001b[0mlist\u001b[0m\u001b[1;33m[\u001b[0m\u001b[0mBlock\u001b[0m\u001b[1;33m]\u001b[0m \u001b[1;33m=\u001b[0m \u001b[1;33m[\u001b[0m\u001b[1;33m]\u001b[0m\u001b[1;33m\u001b[0m\u001b[1;33m\u001b[0m\u001b[0m\n\u001b[0;32m     64\u001b[0m     \u001b[1;32mfor\u001b[0m \u001b[0mlvals\u001b[0m\u001b[1;33m,\u001b[0m \u001b[0mrvals\u001b[0m\u001b[1;33m,\u001b[0m \u001b[0mlocs\u001b[0m\u001b[1;33m,\u001b[0m \u001b[0mleft_ea\u001b[0m\u001b[1;33m,\u001b[0m \u001b[0mright_ea\u001b[0m\u001b[1;33m,\u001b[0m \u001b[0mrblk\u001b[0m \u001b[1;32min\u001b[0m \u001b[0m_iter_block_pairs\u001b[0m\u001b[1;33m(\u001b[0m\u001b[0mleft\u001b[0m\u001b[1;33m,\u001b[0m \u001b[0mright\u001b[0m\u001b[1;33m)\u001b[0m\u001b[1;33m:\u001b[0m\u001b[1;33m\u001b[0m\u001b[1;33m\u001b[0m\u001b[0m\n\u001b[1;32m---> 65\u001b[1;33m         \u001b[0mres_values\u001b[0m \u001b[1;33m=\u001b[0m \u001b[0marray_op\u001b[0m\u001b[1;33m(\u001b[0m\u001b[0mlvals\u001b[0m\u001b[1;33m,\u001b[0m \u001b[0mrvals\u001b[0m\u001b[1;33m)\u001b[0m\u001b[1;33m\u001b[0m\u001b[1;33m\u001b[0m\u001b[0m\n\u001b[0m\u001b[0;32m     66\u001b[0m         if (\n\u001b[0;32m     67\u001b[0m             \u001b[0mleft_ea\u001b[0m\u001b[1;33m\u001b[0m\u001b[1;33m\u001b[0m\u001b[0m\n\u001b[0;32m     68\u001b[0m             \u001b[1;32mand\u001b[0m \u001b[1;32mnot\u001b[0m \u001b[0mright_ea\u001b[0m\u001b[1;33m\u001b[0m\u001b[1;33m\u001b[0m\u001b[0m\n",
      "\u001b[1;32md:\\KLTN_Image-Seaching_Systeam\\venv\\Lib\\site-packages\\pandas\\core\\frame.py\u001b[0m in \u001b[0;36m?\u001b[1;34m(left, right)\u001b[0m\n\u001b[0;32m   8005\u001b[0m                 \u001b[1;31m# for the mixed_type case where we iterate over columns,\u001b[0m\u001b[1;33m\u001b[0m\u001b[1;33m\u001b[0m\u001b[0m\n\u001b[0;32m   8006\u001b[0m                 \u001b[1;31m# _arith_op(left, right) is equivalent to\u001b[0m\u001b[1;33m\u001b[0m\u001b[1;33m\u001b[0m\u001b[0m\n\u001b[0;32m   8007\u001b[0m                 \u001b[1;31m# left._binop(right, func, fill_value=fill_value)\u001b[0m\u001b[1;33m\u001b[0m\u001b[1;33m\u001b[0m\u001b[0m\n\u001b[0;32m   8008\u001b[0m                 \u001b[0mleft\u001b[0m\u001b[1;33m,\u001b[0m \u001b[0mright\u001b[0m \u001b[1;33m=\u001b[0m \u001b[0mops\u001b[0m\u001b[1;33m.\u001b[0m\u001b[0mfill_binop\u001b[0m\u001b[1;33m(\u001b[0m\u001b[0mleft\u001b[0m\u001b[1;33m,\u001b[0m \u001b[0mright\u001b[0m\u001b[1;33m,\u001b[0m \u001b[0mfill_value\u001b[0m\u001b[1;33m)\u001b[0m\u001b[1;33m\u001b[0m\u001b[1;33m\u001b[0m\u001b[0m\n\u001b[1;32m-> 8009\u001b[1;33m                 \u001b[1;32mreturn\u001b[0m \u001b[0mfunc\u001b[0m\u001b[1;33m(\u001b[0m\u001b[0mleft\u001b[0m\u001b[1;33m,\u001b[0m \u001b[0mright\u001b[0m\u001b[1;33m)\u001b[0m\u001b[1;33m\u001b[0m\u001b[1;33m\u001b[0m\u001b[0m\n\u001b[0m",
      "\u001b[1;31mTypeError\u001b[0m: unsupported operand type(s) for -: 'str' and 'float'"
     ]
    }
   ],
   "source": [
    "df1.subtract(df2, fill_value=0).query(\"count != 0\")"
   ]
  },
  {
   "cell_type": "code",
   "execution_count": null,
   "metadata": {},
   "outputs": [],
   "source": []
  }
 ],
 "metadata": {
  "kernelspec": {
   "display_name": "venv",
   "language": "python",
   "name": "python3"
  },
  "language_info": {
   "codemirror_mode": {
    "name": "ipython",
    "version": 3
   },
   "file_extension": ".py",
   "mimetype": "text/x-python",
   "name": "python",
   "nbconvert_exporter": "python",
   "pygments_lexer": "ipython3",
   "version": "3.11.9"
  }
 },
 "nbformat": 4,
 "nbformat_minor": 2
}
